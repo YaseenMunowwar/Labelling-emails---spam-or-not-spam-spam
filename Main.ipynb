{
 "cells": [
  {
   "cell_type": "code",
   "execution_count": null,
   "metadata": {},
   "outputs": [],
   "source": [
    "#CM2604 - Machine Learning Coursework\n",
    "#Name: Yaseen Munowwar\n",
    "#IIT Student ID: 20210079 \n",
    "#RGU Student ID: 2122105 "
   ]
  }
 ],
 "metadata": {
  "language_info": {
   "name": "python"
  },
  "orig_nbformat": 4
 },
 "nbformat": 4,
 "nbformat_minor": 2
}
